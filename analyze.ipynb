{
 "cells": [
  {
   "cell_type": "code",
   "execution_count": 1,
   "id": "c91d3cac",
   "metadata": {},
   "outputs": [],
   "source": [
    "from sklearn.calibration import calibration_curve\n",
    "from sklearn.metrics import accuracy_score, confusion_matrix, ConfusionMatrixDisplay, f1_score"
   ]
  },
  {
   "cell_type": "code",
   "execution_count": 2,
   "id": "cbf3cff6",
   "metadata": {},
   "outputs": [],
   "source": [
    "import numpy as np\n",
    "import sklearn\n",
    "import glob\n",
    "import pandas as pd\n",
    "\n",
    "#import seaborn as sns\n",
    "import matplotlib.pyplot as plt"
   ]
  },
  {
   "cell_type": "code",
   "execution_count": 10,
   "id": "9b1611f9",
   "metadata": {},
   "outputs": [
    {
     "name": "stdout",
     "output_type": "stream",
     "text": [
      "/home/nfs/rmadaj/IDUB/dc2_oligo\n"
     ]
    }
   ],
   "source": [
    "!pwd"
   ]
  },
  {
   "cell_type": "code",
   "execution_count": 3,
   "id": "3f72b97e",
   "metadata": {},
   "outputs": [
    {
     "data": {
      "text/html": [
       "<div>\n",
       "<style scoped>\n",
       "    .dataframe tbody tr th:only-of-type {\n",
       "        vertical-align: middle;\n",
       "    }\n",
       "\n",
       "    .dataframe tbody tr th {\n",
       "        vertical-align: top;\n",
       "    }\n",
       "\n",
       "    .dataframe thead th {\n",
       "        text-align: right;\n",
       "    }\n",
       "</style>\n",
       "<table border=\"1\" class=\"dataframe\">\n",
       "  <thead>\n",
       "    <tr style=\"text-align: right;\">\n",
       "      <th></th>\n",
       "      <th>pdb</th>\n",
       "      <th>cc_cov</th>\n",
       "      <th>chains</th>\n",
       "      <th>cc_sequence</th>\n",
       "      <th>full_sequence</th>\n",
       "      <th>full_seq_corr</th>\n",
       "      <th>cc_seq_corr</th>\n",
       "      <th>parallel</th>\n",
       "      <th>register</th>\n",
       "      <th>y</th>\n",
       "      <th>y_pred</th>\n",
       "      <th>prob_dimer</th>\n",
       "      <th>prob_trimer</th>\n",
       "      <th>prob_tetramer</th>\n",
       "    </tr>\n",
       "  </thead>\n",
       "  <tbody>\n",
       "    <tr>\n",
       "      <th>0</th>\n",
       "      <td>3e7k</td>\n",
       "      <td>0.851852</td>\n",
       "      <td>4</td>\n",
       "      <td>TFERVEQMSIQIKEVGDRVNYIKRSLQSLDSQIGHLQDLSALTVDT</td>\n",
       "      <td>SRVTFERVEQMSIQIKEVGDRVNYIKRSLQSLDSQIGHLQDLSALT...</td>\n",
       "      <td>True</td>\n",
       "      <td>False</td>\n",
       "      <td>False</td>\n",
       "      <td>defgabcdefgabcdefgabcdefgabcdefgabcdefgabcdefg</td>\n",
       "      <td>2</td>\n",
       "      <td>2</td>\n",
       "      <td>0.009056</td>\n",
       "      <td>0.051386</td>\n",
       "      <td>0.119558</td>\n",
       "    </tr>\n",
       "    <tr>\n",
       "      <th>1</th>\n",
       "      <td>6us8</td>\n",
       "      <td>0.826087</td>\n",
       "      <td>4</td>\n",
       "      <td>LVVAASIIGILHLILWILD</td>\n",
       "      <td>DPLVVAASIIGILHLILWILDRL</td>\n",
       "      <td>True</td>\n",
       "      <td>False</td>\n",
       "      <td>True</td>\n",
       "      <td>cdefgabcabcdefgdefg</td>\n",
       "      <td>2</td>\n",
       "      <td>2</td>\n",
       "      <td>0.000044</td>\n",
       "      <td>0.047324</td>\n",
       "      <td>0.152632</td>\n",
       "    </tr>\n",
       "    <tr>\n",
       "      <th>2</th>\n",
       "      <td>5kht</td>\n",
       "      <td>0.893617</td>\n",
       "      <td>2</td>\n",
       "      <td>DAIKKKMQMLKLDKENALDRAEQAEADNYHLENEVARLKKL</td>\n",
       "      <td>GMDAIKKKMQMLKLDKENALDRAEQAEADNYHLENEVARLKKLVGER</td>\n",
       "      <td>False</td>\n",
       "      <td>True</td>\n",
       "      <td>True</td>\n",
       "      <td>bcdefgabcdefgabcdefgabcdefgabcdefgabcdefg</td>\n",
       "      <td>0</td>\n",
       "      <td>0</td>\n",
       "      <td>0.132453</td>\n",
       "      <td>0.000516</td>\n",
       "      <td>0.027030</td>\n",
       "    </tr>\n",
       "    <tr>\n",
       "      <th>3</th>\n",
       "      <td>5c9n</td>\n",
       "      <td>0.671875</td>\n",
       "      <td>2</td>\n",
       "      <td>CSWEEAQLSSQLYRNKQLQDTLVQKEEELARLHEENNHLRQYL</td>\n",
       "      <td>LPDLCSWEEAQLSSQLYRNKQLQDTLVQKEEELARLHEENNHLRQY...</td>\n",
       "      <td>True</td>\n",
       "      <td>False</td>\n",
       "      <td>True</td>\n",
       "      <td>abcdefgabcdefgabcdefgabcdefgabcdefgabcdefga</td>\n",
       "      <td>0</td>\n",
       "      <td>0</td>\n",
       "      <td>0.115096</td>\n",
       "      <td>0.005443</td>\n",
       "      <td>0.019461</td>\n",
       "    </tr>\n",
       "    <tr>\n",
       "      <th>4</th>\n",
       "      <td>3a2a</td>\n",
       "      <td>0.878049</td>\n",
       "      <td>2</td>\n",
       "      <td>LLRLKQMNVQLAAKIQHLEFSCSEKEQEIERLNKLL</td>\n",
       "      <td>RQLLRLKQMNVQLAAKIQHLEFSCSEKEQEIERLNKLLRQH</td>\n",
       "      <td>False</td>\n",
       "      <td>False</td>\n",
       "      <td>True</td>\n",
       "      <td>abcdefgabcdefgabcdefgabcdefgabcdefga</td>\n",
       "      <td>0</td>\n",
       "      <td>0</td>\n",
       "      <td>0.139122</td>\n",
       "      <td>0.011152</td>\n",
       "      <td>0.009727</td>\n",
       "    </tr>\n",
       "    <tr>\n",
       "      <th>...</th>\n",
       "      <td>...</td>\n",
       "      <td>...</td>\n",
       "      <td>...</td>\n",
       "      <td>...</td>\n",
       "      <td>...</td>\n",
       "      <td>...</td>\n",
       "      <td>...</td>\n",
       "      <td>...</td>\n",
       "      <td>...</td>\n",
       "      <td>...</td>\n",
       "      <td>...</td>\n",
       "      <td>...</td>\n",
       "      <td>...</td>\n",
       "      <td>...</td>\n",
       "    </tr>\n",
       "    <tr>\n",
       "      <th>211</th>\n",
       "      <td>4nj1</td>\n",
       "      <td>0.806452</td>\n",
       "      <td>2</td>\n",
       "      <td>MKQLEDKIEELLSKNYHLENEIARL</td>\n",
       "      <td>RMKQLEDKIEELLSKNYHLENEIARLKKLVG</td>\n",
       "      <td>True</td>\n",
       "      <td>False</td>\n",
       "      <td>True</td>\n",
       "      <td>abcdefgabcdefgabcdefgabcd</td>\n",
       "      <td>0</td>\n",
       "      <td>0</td>\n",
       "      <td>0.135587</td>\n",
       "      <td>0.037902</td>\n",
       "      <td>0.006511</td>\n",
       "    </tr>\n",
       "    <tr>\n",
       "      <th>212</th>\n",
       "      <td>5kb1</td>\n",
       "      <td>0.888889</td>\n",
       "      <td>3</td>\n",
       "      <td>WEALEKKLAALESKCQALEKKLQALEKKHEAL</td>\n",
       "      <td>EWEALEKKLAALESKCQALEKKLQALEKKHEALEHG</td>\n",
       "      <td>False</td>\n",
       "      <td>False</td>\n",
       "      <td>True</td>\n",
       "      <td>abcdefgabcdefgabcdefgabcdefgabcd</td>\n",
       "      <td>1</td>\n",
       "      <td>1</td>\n",
       "      <td>0.017693</td>\n",
       "      <td>0.182808</td>\n",
       "      <td>0.039499</td>\n",
       "    </tr>\n",
       "    <tr>\n",
       "      <th>213</th>\n",
       "      <td>4h22</td>\n",
       "      <td>0.876543</td>\n",
       "      <td>2</td>\n",
       "      <td>YKKAMVSNAQLDNEKTNFMYQVDTLKDMLLELEEQLAESRRQYEEK...</td>\n",
       "      <td>EEKYKKAMVSNAQLDNEKTNFMYQVDTLKDMLLELEEQLAESRRQY...</td>\n",
       "      <td>True</td>\n",
       "      <td>False</td>\n",
       "      <td>True</td>\n",
       "      <td>abcdefgabcdefgabcdefgabcdefgabcdefgabcdefgabcd...</td>\n",
       "      <td>0</td>\n",
       "      <td>0</td>\n",
       "      <td>0.158303</td>\n",
       "      <td>0.000707</td>\n",
       "      <td>0.000990</td>\n",
       "    </tr>\n",
       "    <tr>\n",
       "      <th>214</th>\n",
       "      <td>1kyc</td>\n",
       "      <td>0.800000</td>\n",
       "      <td>3</td>\n",
       "      <td>LRRRIEELERRI</td>\n",
       "      <td>EELRRRIEELERRIR</td>\n",
       "      <td>False</td>\n",
       "      <td>False</td>\n",
       "      <td>True</td>\n",
       "      <td>defgabcdefga</td>\n",
       "      <td>1</td>\n",
       "      <td>1</td>\n",
       "      <td>0.004360</td>\n",
       "      <td>0.133106</td>\n",
       "      <td>0.022534</td>\n",
       "    </tr>\n",
       "    <tr>\n",
       "      <th>215</th>\n",
       "      <td>2zfc</td>\n",
       "      <td>0.909091</td>\n",
       "      <td>3</td>\n",
       "      <td>LVQQQNNILRALEATQHAVQALVWGVKQLQARVLALERYI</td>\n",
       "      <td>VSGLVQQQNNILRALEATQHAVQALVWGVKQLQARVLALERYIK</td>\n",
       "      <td>False</td>\n",
       "      <td>False</td>\n",
       "      <td>True</td>\n",
       "      <td>defgabcdefgabcdefgabcdefgabcdefgabcdefga</td>\n",
       "      <td>1</td>\n",
       "      <td>0</td>\n",
       "      <td>0.093696</td>\n",
       "      <td>0.020778</td>\n",
       "      <td>0.005525</td>\n",
       "    </tr>\n",
       "  </tbody>\n",
       "</table>\n",
       "<p>216 rows × 14 columns</p>\n",
       "</div>"
      ],
      "text/plain": [
       "      pdb    cc_cov  chains  \\\n",
       "0    3e7k  0.851852       4   \n",
       "1    6us8  0.826087       4   \n",
       "2    5kht  0.893617       2   \n",
       "3    5c9n  0.671875       2   \n",
       "4    3a2a  0.878049       2   \n",
       "..    ...       ...     ...   \n",
       "211  4nj1  0.806452       2   \n",
       "212  5kb1  0.888889       3   \n",
       "213  4h22  0.876543       2   \n",
       "214  1kyc  0.800000       3   \n",
       "215  2zfc  0.909091       3   \n",
       "\n",
       "                                           cc_sequence  \\\n",
       "0       TFERVEQMSIQIKEVGDRVNYIKRSLQSLDSQIGHLQDLSALTVDT   \n",
       "1                                  LVVAASIIGILHLILWILD   \n",
       "2            DAIKKKMQMLKLDKENALDRAEQAEADNYHLENEVARLKKL   \n",
       "3          CSWEEAQLSSQLYRNKQLQDTLVQKEEELARLHEENNHLRQYL   \n",
       "4                 LLRLKQMNVQLAAKIQHLEFSCSEKEQEIERLNKLL   \n",
       "..                                                 ...   \n",
       "211                          MKQLEDKIEELLSKNYHLENEIARL   \n",
       "212                   WEALEKKLAALESKCQALEKKLQALEKKHEAL   \n",
       "213  YKKAMVSNAQLDNEKTNFMYQVDTLKDMLLELEEQLAESRRQYEEK...   \n",
       "214                                       LRRRIEELERRI   \n",
       "215           LVQQQNNILRALEATQHAVQALVWGVKQLQARVLALERYI   \n",
       "\n",
       "                                         full_sequence  full_seq_corr  \\\n",
       "0    SRVTFERVEQMSIQIKEVGDRVNYIKRSLQSLDSQIGHLQDLSALT...           True   \n",
       "1                              DPLVVAASIIGILHLILWILDRL           True   \n",
       "2      GMDAIKKKMQMLKLDKENALDRAEQAEADNYHLENEVARLKKLVGER          False   \n",
       "3    LPDLCSWEEAQLSSQLYRNKQLQDTLVQKEEELARLHEENNHLRQY...           True   \n",
       "4            RQLLRLKQMNVQLAAKIQHLEFSCSEKEQEIERLNKLLRQH          False   \n",
       "..                                                 ...            ...   \n",
       "211                    RMKQLEDKIEELLSKNYHLENEIARLKKLVG           True   \n",
       "212               EWEALEKKLAALESKCQALEKKLQALEKKHEALEHG          False   \n",
       "213  EEKYKKAMVSNAQLDNEKTNFMYQVDTLKDMLLELEEQLAESRRQY...           True   \n",
       "214                                    EELRRRIEELERRIR          False   \n",
       "215       VSGLVQQQNNILRALEATQHAVQALVWGVKQLQARVLALERYIK          False   \n",
       "\n",
       "     cc_seq_corr  parallel                                           register  \\\n",
       "0          False     False     defgabcdefgabcdefgabcdefgabcdefgabcdefgabcdefg   \n",
       "1          False      True                                cdefgabcabcdefgdefg   \n",
       "2           True      True          bcdefgabcdefgabcdefgabcdefgabcdefgabcdefg   \n",
       "3          False      True        abcdefgabcdefgabcdefgabcdefgabcdefgabcdefga   \n",
       "4          False      True               abcdefgabcdefgabcdefgabcdefgabcdefga   \n",
       "..           ...       ...                                                ...   \n",
       "211        False      True                          abcdefgabcdefgabcdefgabcd   \n",
       "212        False      True                   abcdefgabcdefgabcdefgabcdefgabcd   \n",
       "213        False      True  abcdefgabcdefgabcdefgabcdefgabcdefgabcdefgabcd...   \n",
       "214        False      True                                       defgabcdefga   \n",
       "215        False      True           defgabcdefgabcdefgabcdefgabcdefgabcdefga   \n",
       "\n",
       "     y  y_pred  prob_dimer  prob_trimer  prob_tetramer  \n",
       "0    2       2    0.009056     0.051386       0.119558  \n",
       "1    2       2    0.000044     0.047324       0.152632  \n",
       "2    0       0    0.132453     0.000516       0.027030  \n",
       "3    0       0    0.115096     0.005443       0.019461  \n",
       "4    0       0    0.139122     0.011152       0.009727  \n",
       "..  ..     ...         ...          ...            ...  \n",
       "211  0       0    0.135587     0.037902       0.006511  \n",
       "212  1       1    0.017693     0.182808       0.039499  \n",
       "213  0       0    0.158303     0.000707       0.000990  \n",
       "214  1       1    0.004360     0.133106       0.022534  \n",
       "215  1       0    0.093696     0.020778       0.005525  \n",
       "\n",
       "[216 rows x 14 columns]"
      ]
     },
     "execution_count": 3,
     "metadata": {},
     "output_type": "execute_result"
    }
   ],
   "source": [
    "df = pd.read_csv(\"model/results.csv\", index_col=0)\n",
    "df"
   ]
  },
  {
   "cell_type": "code",
   "execution_count": 9,
   "id": "e44571fd",
   "metadata": {},
   "outputs": [
    {
     "name": "stdout",
     "output_type": "stream",
     "text": [
      "Accuracy:  0.8287037037037037\n"
     ]
    },
    {
     "data": {
      "image/png": "[encoded data removed]",
      "text/plain": [
       "<Figure size 432x288 with 2 Axes>"
      ]
     },
     "metadata": {
      "needs_background": "light"
     },
     "output_type": "display_data"
    }
   ],
   "source": [
    "ConfusionMatrixDisplay.from_predictions(df[\"y\"], df[\"y_pred\"], cmap='Blues')\n",
    "#calculate acc and f1\n",
    "print(\"Accuracy: \", accuracy_score(df[\"y\"], df[\"y_pred\"]))\n"
   ]
  },
  {
   "cell_type": "code",
   "execution_count": 5,
   "id": "836c93db",
   "metadata": {},
   "outputs": [
    {
     "data": {
      "text/plain": [
       "array([[84,  6,  5],\n",
       "       [ 7, 74,  8],\n",
       "       [ 3,  7, 52]])"
      ]
     },
     "execution_count": 5,
     "metadata": {},
     "output_type": "execute_result"
    }
   ],
   "source": [
    "confusion_matrix(df[\"y\"], df[\"y_pred\"])"
   ]
  },
  {
   "cell_type": "code",
   "execution_count": 21,
   "id": "6a048597",
   "metadata": {},
   "outputs": [
    {
     "data": {
      "text/plain": [
       "246"
      ]
     },
     "execution_count": 21,
     "metadata": {},
     "output_type": "execute_result"
    }
   ],
   "source": [
    "len(df)"
   ]
  },
  {
   "cell_type": "code",
   "execution_count": 5,
   "id": "dfb9449e",
   "metadata": {},
   "outputs": [
    {
     "data": {
      "image/png": "[encoded data removed]",
      "text/plain": [
       "<Figure size 432x288 with 1 Axes>"
      ]
     },
     "metadata": {
      "needs_background": "light"
     },
     "output_type": "display_data"
    }
   ],
   "source": [
    "plt.plot([0, 1], [0, 1], linestyle='--')\n",
    "for pr, i in zip([\"prob_dimer\", \"prob_trimer\", \"prob_tetramer\"], [0, 1, 2]):\n",
    "    xc, yc = calibration_curve([1 if y_ == i else 0 for y_ in df[\"y\"].values], df[pr].values, n_bins=5)\n",
    "    plt.plot(xc, yc)"
   ]
  },
  {
   "cell_type": "code",
   "execution_count": 6,
   "id": "725d299d",
   "metadata": {},
   "outputs": [
    {
     "data": {
      "text/plain": [
       "(216, 216)"
      ]
     },
     "execution_count": 6,
     "metadata": {},
     "output_type": "execute_result"
    }
   ],
   "source": [
    "len(df), len(df.pdb.unique())"
   ]
  },
  {
   "cell_type": "code",
   "execution_count": 30,
   "id": "87a26b5d",
   "metadata": {},
   "outputs": [
    {
     "name": "stdout",
     "output_type": "stream",
     "text": [
      "/home/nfs/jludwiczak/af2_cc/af2_multimer\r\n"
     ]
    }
   ],
   "source": [
    "!pwd"
   ]
  },
  {
   "cell_type": "code",
   "execution_count": 24,
   "id": "3021aa55",
   "metadata": {},
   "outputs": [],
   "source": [
    "df_ref = pd.read_csv(\"in/set4_with_logicoil_coconat.csv\", index_col=0)"
   ]
  },
  {
   "cell_type": "code",
   "execution_count": 25,
   "id": "71497992",
   "metadata": {},
   "outputs": [
    {
     "data": {
      "text/plain": [
       "248"
      ]
     },
     "execution_count": 25,
     "metadata": {},
     "output_type": "execute_result"
    }
   ],
   "source": [
    "len(df_ref)"
   ]
  },
  {
   "cell_type": "code",
   "execution_count": 26,
   "id": "67345fb6",
   "metadata": {},
   "outputs": [],
   "source": [
    "df_ref[\"y_pred_logicoil\"] = np.argmax(df_ref[['Parallel Dimer', 'Tetramer', 'Trimer', 'Antiparallel dimer']].values, axis=1)\n",
    "df_ref[\"y_pred_logicoil\"] = df_ref[\"y_pred_logicoil\"].apply(lambda x: x if x != 3 else 0)\n",
    "df = pd.merge(df, df_ref, left_on=\"pdb\", right_index=True)"
   ]
  },
  {
   "cell_type": "code",
   "execution_count": 28,
   "id": "3c4731ae",
   "metadata": {},
   "outputs": [
    {
     "data": {
      "text/html": [
       "<div>\n",
       "<style scoped>\n",
       "    .dataframe tbody tr th:only-of-type {\n",
       "        vertical-align: middle;\n",
       "    }\n",
       "\n",
       "    .dataframe tbody tr th {\n",
       "        vertical-align: top;\n",
       "    }\n",
       "\n",
       "    .dataframe thead th {\n",
       "        text-align: right;\n",
       "    }\n",
       "</style>\n",
       "<table border=\"1\" class=\"dataframe\">\n",
       "  <thead>\n",
       "    <tr style=\"text-align: right;\">\n",
       "      <th></th>\n",
       "      <th>pdb</th>\n",
       "      <th>cc_cov_x</th>\n",
       "      <th>chains_x</th>\n",
       "      <th>cc_sequence_x</th>\n",
       "      <th>full_sequence_x</th>\n",
       "      <th>full_seq_corr_x</th>\n",
       "      <th>cc_seq_corr_x</th>\n",
       "      <th>parallel_x</th>\n",
       "      <th>y</th>\n",
       "      <th>y_pred</th>\n",
       "      <th>...</th>\n",
       "      <th>Antiparallel dimer</th>\n",
       "      <th>Parallel Dimer</th>\n",
       "      <th>Trimer</th>\n",
       "      <th>Tetramer</th>\n",
       "      <th>Test Sequence length</th>\n",
       "      <th>register</th>\n",
       "      <th>logicoil_seq</th>\n",
       "      <th>seq_length_difference</th>\n",
       "      <th>y_pred_coconat</th>\n",
       "      <th>y_pred_logicoil</th>\n",
       "    </tr>\n",
       "  </thead>\n",
       "  <tbody>\n",
       "    <tr>\n",
       "      <th>0</th>\n",
       "      <td>3e7k</td>\n",
       "      <td>0.851852</td>\n",
       "      <td>4</td>\n",
       "      <td>TFERVEQMSIQIKEVGDRVNYIKRSLQSLDSQIGHLQDLSALTVDT</td>\n",
       "      <td>SRVTFERVEQMSIQIKEVGDRVNYIKRSLQSLDSQIGHLQDLSALT...</td>\n",
       "      <td>True</td>\n",
       "      <td>False</td>\n",
       "      <td>False</td>\n",
       "      <td>2</td>\n",
       "      <td>1</td>\n",
       "      <td>...</td>\n",
       "      <td>0.920439</td>\n",
       "      <td>0.873553</td>\n",
       "      <td>2.239204</td>\n",
       "      <td>1.190639</td>\n",
       "      <td>46</td>\n",
       "      <td>defgabcdefgabcdefgabcdefgabcdefgabcdefgabcdefg</td>\n",
       "      <td>TFERVEQMSIQIKEVGDRVNYIKRSLQSLDSQIGHLQDLSALTVDT</td>\n",
       "      <td>0</td>\n",
       "      <td>1.0</td>\n",
       "      <td>2</td>\n",
       "    </tr>\n",
       "    <tr>\n",
       "      <th>1</th>\n",
       "      <td>1use</td>\n",
       "      <td>0.550000</td>\n",
       "      <td>4</td>\n",
       "      <td>YSDLQRVKQELLEEVKKELQKV</td>\n",
       "      <td>SSDYSDLQRVKQELLEEVKKELQKVKEEIIEAFVQELRKR</td>\n",
       "      <td>False</td>\n",
       "      <td>False</td>\n",
       "      <td>True</td>\n",
       "      <td>2</td>\n",
       "      <td>2</td>\n",
       "      <td>...</td>\n",
       "      <td>0.977998</td>\n",
       "      <td>1.110243</td>\n",
       "      <td>0.905966</td>\n",
       "      <td>0.906184</td>\n",
       "      <td>22</td>\n",
       "      <td>abcdefgabcdefgabcdefga</td>\n",
       "      <td>YSDLQRVKQELLEEVKKELQKV</td>\n",
       "      <td>0</td>\n",
       "      <td>NaN</td>\n",
       "      <td>0</td>\n",
       "    </tr>\n",
       "    <tr>\n",
       "      <th>2</th>\n",
       "      <td>6us8</td>\n",
       "      <td>0.826087</td>\n",
       "      <td>4</td>\n",
       "      <td>LVVAASIIGILHLILWILD</td>\n",
       "      <td>DPLVVAASIIGILHLILWILDRL</td>\n",
       "      <td>True</td>\n",
       "      <td>False</td>\n",
       "      <td>True</td>\n",
       "      <td>2</td>\n",
       "      <td>2</td>\n",
       "      <td>...</td>\n",
       "      <td>1.093802</td>\n",
       "      <td>0.722218</td>\n",
       "      <td>1.441415</td>\n",
       "      <td>0.779629</td>\n",
       "      <td>19</td>\n",
       "      <td>gabcdefgabcdefgabcd</td>\n",
       "      <td>LVVAASIIGILHLILWILD</td>\n",
       "      <td>0</td>\n",
       "      <td>NaN</td>\n",
       "      <td>2</td>\n",
       "    </tr>\n",
       "    <tr>\n",
       "      <th>3</th>\n",
       "      <td>5kht</td>\n",
       "      <td>0.893617</td>\n",
       "      <td>2</td>\n",
       "      <td>DAIKKKMQMLKLDKENALDRAEQAEADNYHLENEVARLKKL</td>\n",
       "      <td>GMDAIKKKMQMLKLDKENALDRAEQAEADNYHLENEVARLKKLVGER</td>\n",
       "      <td>False</td>\n",
       "      <td>True</td>\n",
       "      <td>True</td>\n",
       "      <td>0</td>\n",
       "      <td>0</td>\n",
       "      <td>...</td>\n",
       "      <td>0.872560</td>\n",
       "      <td>1.282056</td>\n",
       "      <td>1.080260</td>\n",
       "      <td>1.124592</td>\n",
       "      <td>42</td>\n",
       "      <td>abcdefgabcdefgabcdefgabcdefgabcdefgabcdefg</td>\n",
       "      <td>MDAIKKKMQMLKLDKENALDRAEQAEADNYHLENEVARLKKL</td>\n",
       "      <td>1</td>\n",
       "      <td>0.0</td>\n",
       "      <td>0</td>\n",
       "    </tr>\n",
       "    <tr>\n",
       "      <th>4</th>\n",
       "      <td>5c9n</td>\n",
       "      <td>0.671875</td>\n",
       "      <td>2</td>\n",
       "      <td>CSWEEAQLSSQLYRNKQLQDTLVQKEEELARLHEENNHLRQYL</td>\n",
       "      <td>LPDLCSWEEAQLSSQLYRNKQLQDTLVQKEEELARLHEENNHLRQY...</td>\n",
       "      <td>True</td>\n",
       "      <td>False</td>\n",
       "      <td>True</td>\n",
       "      <td>0</td>\n",
       "      <td>0</td>\n",
       "      <td>...</td>\n",
       "      <td>0.879932</td>\n",
       "      <td>1.454100</td>\n",
       "      <td>0.795436</td>\n",
       "      <td>0.729975</td>\n",
       "      <td>43</td>\n",
       "      <td>abcdefgabcdefgabcdefgabcdefgabcdefgabcdefga</td>\n",
       "      <td>CSWEEAQLSSQLYRNKQLQDTLVQKEEELARLHEENNHLRQYL</td>\n",
       "      <td>0</td>\n",
       "      <td>0.0</td>\n",
       "      <td>0</td>\n",
       "    </tr>\n",
       "    <tr>\n",
       "      <th>...</th>\n",
       "      <td>...</td>\n",
       "      <td>...</td>\n",
       "      <td>...</td>\n",
       "      <td>...</td>\n",
       "      <td>...</td>\n",
       "      <td>...</td>\n",
       "      <td>...</td>\n",
       "      <td>...</td>\n",
       "      <td>...</td>\n",
       "      <td>...</td>\n",
       "      <td>...</td>\n",
       "      <td>...</td>\n",
       "      <td>...</td>\n",
       "      <td>...</td>\n",
       "      <td>...</td>\n",
       "      <td>...</td>\n",
       "      <td>...</td>\n",
       "      <td>...</td>\n",
       "      <td>...</td>\n",
       "      <td>...</td>\n",
       "      <td>...</td>\n",
       "    </tr>\n",
       "    <tr>\n",
       "      <th>243</th>\n",
       "      <td>5kb1</td>\n",
       "      <td>0.888889</td>\n",
       "      <td>3</td>\n",
       "      <td>WEALEKKLAALESKCQALEKKLQALEKKHEAL</td>\n",
       "      <td>EWEALEKKLAALESKCQALEKKLQALEKKHEALEHG</td>\n",
       "      <td>False</td>\n",
       "      <td>False</td>\n",
       "      <td>True</td>\n",
       "      <td>1</td>\n",
       "      <td>1</td>\n",
       "      <td>...</td>\n",
       "      <td>0.955279</td>\n",
       "      <td>1.023467</td>\n",
       "      <td>0.834725</td>\n",
       "      <td>1.409762</td>\n",
       "      <td>32</td>\n",
       "      <td>abcdefgabcdefgabcdefgabcdefgabcd</td>\n",
       "      <td>WEALEKKLAALESKCQALEKKLQALEKKHEAL</td>\n",
       "      <td>0</td>\n",
       "      <td>NaN</td>\n",
       "      <td>1</td>\n",
       "    </tr>\n",
       "    <tr>\n",
       "      <th>244</th>\n",
       "      <td>4h22</td>\n",
       "      <td>0.876543</td>\n",
       "      <td>2</td>\n",
       "      <td>YKKAMVSNAQLDNEKTNFMYQVDTLKDMLLELEEQLAESRRQYEEK...</td>\n",
       "      <td>EEKYKKAMVSNAQLDNEKTNFMYQVDTLKDMLLELEEQLAESRRQY...</td>\n",
       "      <td>True</td>\n",
       "      <td>False</td>\n",
       "      <td>True</td>\n",
       "      <td>0</td>\n",
       "      <td>0</td>\n",
       "      <td>...</td>\n",
       "      <td>0.980932</td>\n",
       "      <td>1.111608</td>\n",
       "      <td>0.948640</td>\n",
       "      <td>0.848414</td>\n",
       "      <td>71</td>\n",
       "      <td>abcdefgabcdefgabcdefgabcdefgabcdefgabcdefgabcd...</td>\n",
       "      <td>YKKAMVSNAQLDNEKTNFMYQVDTLKDMLLELEEQLAESRRQYEEK...</td>\n",
       "      <td>0</td>\n",
       "      <td>0.0</td>\n",
       "      <td>0</td>\n",
       "    </tr>\n",
       "    <tr>\n",
       "      <th>245</th>\n",
       "      <td>1kyc</td>\n",
       "      <td>0.800000</td>\n",
       "      <td>3</td>\n",
       "      <td>LRRRIEELERRI</td>\n",
       "      <td>EELRRRIEELERRIR</td>\n",
       "      <td>False</td>\n",
       "      <td>False</td>\n",
       "      <td>True</td>\n",
       "      <td>1</td>\n",
       "      <td>1</td>\n",
       "      <td>...</td>\n",
       "      <td>0.000000</td>\n",
       "      <td>0.000000</td>\n",
       "      <td>0.000000</td>\n",
       "      <td>0.000000</td>\n",
       "      <td>0</td>\n",
       "      <td>defgabcdefga</td>\n",
       "      <td>LRRRIEELERRI</td>\n",
       "      <td>0</td>\n",
       "      <td>NaN</td>\n",
       "      <td>0</td>\n",
       "    </tr>\n",
       "    <tr>\n",
       "      <th>246</th>\n",
       "      <td>2zfc</td>\n",
       "      <td>0.909091</td>\n",
       "      <td>3</td>\n",
       "      <td>LVQQQNNILRALEATQHAVQALVWGVKQLQARVLALERYI</td>\n",
       "      <td>VSGLVQQQNNILRALEATQHAVQALVWGVKQLQARVLALERYIK</td>\n",
       "      <td>False</td>\n",
       "      <td>False</td>\n",
       "      <td>True</td>\n",
       "      <td>1</td>\n",
       "      <td>1</td>\n",
       "      <td>...</td>\n",
       "      <td>0.921845</td>\n",
       "      <td>1.006125</td>\n",
       "      <td>1.192171</td>\n",
       "      <td>1.492111</td>\n",
       "      <td>40</td>\n",
       "      <td>defgabcdefgabcdefgabcdefgabcdefgabcdefga</td>\n",
       "      <td>LVQQQNNILRALEATQHAVQALVWGVKQLQARVLALERYI</td>\n",
       "      <td>0</td>\n",
       "      <td>1.0</td>\n",
       "      <td>1</td>\n",
       "    </tr>\n",
       "    <tr>\n",
       "      <th>247</th>\n",
       "      <td>5djn</td>\n",
       "      <td>0.831169</td>\n",
       "      <td>2</td>\n",
       "      <td>IRELREEVEKLREQLSQAEAMKAELKEKLEESEKLIKELTVTWEEK...</td>\n",
       "      <td>PNAKVIRELREEVEKLREQLSQAEAMKAELKEKLEESEKLIKELTV...</td>\n",
       "      <td>True</td>\n",
       "      <td>False</td>\n",
       "      <td>True</td>\n",
       "      <td>0</td>\n",
       "      <td>0</td>\n",
       "      <td>...</td>\n",
       "      <td>0.942184</td>\n",
       "      <td>1.156245</td>\n",
       "      <td>0.905685</td>\n",
       "      <td>1.059455</td>\n",
       "      <td>64</td>\n",
       "      <td>abcdefgabcdefgabcdefgabcdefgabcdefgabcdefgabcd...</td>\n",
       "      <td>IRELREEVEKLREQLSQAEAMKAELKEKLEESEKLIKELTVTWEEK...</td>\n",
       "      <td>0</td>\n",
       "      <td>0.0</td>\n",
       "      <td>0</td>\n",
       "    </tr>\n",
       "  </tbody>\n",
       "</table>\n",
       "<p>246 rows × 30 columns</p>\n",
       "</div>"
      ],
      "text/plain": [
       "      pdb  cc_cov_x  chains_x  \\\n",
       "0    3e7k  0.851852         4   \n",
       "1    1use  0.550000         4   \n",
       "2    6us8  0.826087         4   \n",
       "3    5kht  0.893617         2   \n",
       "4    5c9n  0.671875         2   \n",
       "..    ...       ...       ...   \n",
       "243  5kb1  0.888889         3   \n",
       "244  4h22  0.876543         2   \n",
       "245  1kyc  0.800000         3   \n",
       "246  2zfc  0.909091         3   \n",
       "247  5djn  0.831169         2   \n",
       "\n",
       "                                         cc_sequence_x  \\\n",
       "0       TFERVEQMSIQIKEVGDRVNYIKRSLQSLDSQIGHLQDLSALTVDT   \n",
       "1                               YSDLQRVKQELLEEVKKELQKV   \n",
       "2                                  LVVAASIIGILHLILWILD   \n",
       "3            DAIKKKMQMLKLDKENALDRAEQAEADNYHLENEVARLKKL   \n",
       "4          CSWEEAQLSSQLYRNKQLQDTLVQKEEELARLHEENNHLRQYL   \n",
       "..                                                 ...   \n",
       "243                   WEALEKKLAALESKCQALEKKLQALEKKHEAL   \n",
       "244  YKKAMVSNAQLDNEKTNFMYQVDTLKDMLLELEEQLAESRRQYEEK...   \n",
       "245                                       LRRRIEELERRI   \n",
       "246           LVQQQNNILRALEATQHAVQALVWGVKQLQARVLALERYI   \n",
       "247  IRELREEVEKLREQLSQAEAMKAELKEKLEESEKLIKELTVTWEEK...   \n",
       "\n",
       "                                       full_sequence_x  full_seq_corr_x  \\\n",
       "0    SRVTFERVEQMSIQIKEVGDRVNYIKRSLQSLDSQIGHLQDLSALT...             True   \n",
       "1             SSDYSDLQRVKQELLEEVKKELQKVKEEIIEAFVQELRKR            False   \n",
       "2                              DPLVVAASIIGILHLILWILDRL             True   \n",
       "3      GMDAIKKKMQMLKLDKENALDRAEQAEADNYHLENEVARLKKLVGER            False   \n",
       "4    LPDLCSWEEAQLSSQLYRNKQLQDTLVQKEEELARLHEENNHLRQY...             True   \n",
       "..                                                 ...              ...   \n",
       "243               EWEALEKKLAALESKCQALEKKLQALEKKHEALEHG            False   \n",
       "244  EEKYKKAMVSNAQLDNEKTNFMYQVDTLKDMLLELEEQLAESRRQY...             True   \n",
       "245                                    EELRRRIEELERRIR            False   \n",
       "246       VSGLVQQQNNILRALEATQHAVQALVWGVKQLQARVLALERYIK            False   \n",
       "247  PNAKVIRELREEVEKLREQLSQAEAMKAELKEKLEESEKLIKELTV...             True   \n",
       "\n",
       "     cc_seq_corr_x  parallel_x  y  y_pred  ...  Antiparallel dimer  \\\n",
       "0            False       False  2       1  ...            0.920439   \n",
       "1            False        True  2       2  ...            0.977998   \n",
       "2            False        True  2       2  ...            1.093802   \n",
       "3             True        True  0       0  ...            0.872560   \n",
       "4            False        True  0       0  ...            0.879932   \n",
       "..             ...         ... ..     ...  ...                 ...   \n",
       "243          False        True  1       1  ...            0.955279   \n",
       "244          False        True  0       0  ...            0.980932   \n",
       "245          False        True  1       1  ...            0.000000   \n",
       "246          False        True  1       1  ...            0.921845   \n",
       "247          False        True  0       0  ...            0.942184   \n",
       "\n",
       "     Parallel Dimer    Trimer  Tetramer  Test Sequence length  \\\n",
       "0          0.873553  2.239204  1.190639                    46   \n",
       "1          1.110243  0.905966  0.906184                    22   \n",
       "2          0.722218  1.441415  0.779629                    19   \n",
       "3          1.282056  1.080260  1.124592                    42   \n",
       "4          1.454100  0.795436  0.729975                    43   \n",
       "..              ...       ...       ...                   ...   \n",
       "243        1.023467  0.834725  1.409762                    32   \n",
       "244        1.111608  0.948640  0.848414                    71   \n",
       "245        0.000000  0.000000  0.000000                     0   \n",
       "246        1.006125  1.192171  1.492111                    40   \n",
       "247        1.156245  0.905685  1.059455                    64   \n",
       "\n",
       "                                              register  \\\n",
       "0       defgabcdefgabcdefgabcdefgabcdefgabcdefgabcdefg   \n",
       "1                               abcdefgabcdefgabcdefga   \n",
       "2                                  gabcdefgabcdefgabcd   \n",
       "3           abcdefgabcdefgabcdefgabcdefgabcdefgabcdefg   \n",
       "4          abcdefgabcdefgabcdefgabcdefgabcdefgabcdefga   \n",
       "..                                                 ...   \n",
       "243                   abcdefgabcdefgabcdefgabcdefgabcd   \n",
       "244  abcdefgabcdefgabcdefgabcdefgabcdefgabcdefgabcd...   \n",
       "245                                       defgabcdefga   \n",
       "246           defgabcdefgabcdefgabcdefgabcdefgabcdefga   \n",
       "247  abcdefgabcdefgabcdefgabcdefgabcdefgabcdefgabcd...   \n",
       "\n",
       "                                          logicoil_seq  seq_length_difference  \\\n",
       "0       TFERVEQMSIQIKEVGDRVNYIKRSLQSLDSQIGHLQDLSALTVDT                      0   \n",
       "1                               YSDLQRVKQELLEEVKKELQKV                      0   \n",
       "2                                  LVVAASIIGILHLILWILD                      0   \n",
       "3           MDAIKKKMQMLKLDKENALDRAEQAEADNYHLENEVARLKKL                      1   \n",
       "4          CSWEEAQLSSQLYRNKQLQDTLVQKEEELARLHEENNHLRQYL                      0   \n",
       "..                                                 ...                    ...   \n",
       "243                   WEALEKKLAALESKCQALEKKLQALEKKHEAL                      0   \n",
       "244  YKKAMVSNAQLDNEKTNFMYQVDTLKDMLLELEEQLAESRRQYEEK...                      0   \n",
       "245                                       LRRRIEELERRI                      0   \n",
       "246           LVQQQNNILRALEATQHAVQALVWGVKQLQARVLALERYI                      0   \n",
       "247  IRELREEVEKLREQLSQAEAMKAELKEKLEESEKLIKELTVTWEEK...                      0   \n",
       "\n",
       "     y_pred_coconat  y_pred_logicoil  \n",
       "0               1.0                2  \n",
       "1               NaN                0  \n",
       "2               NaN                2  \n",
       "3               0.0                0  \n",
       "4               0.0                0  \n",
       "..              ...              ...  \n",
       "243             NaN                1  \n",
       "244             0.0                0  \n",
       "245             NaN                0  \n",
       "246             1.0                1  \n",
       "247             0.0                0  \n",
       "\n",
       "[246 rows x 30 columns]"
      ]
     },
     "execution_count": 28,
     "metadata": {},
     "output_type": "execute_result"
    }
   ],
   "source": [
    "df"
   ]
  },
  {
   "cell_type": "code",
   "execution_count": 27,
   "id": "014da167",
   "metadata": {},
   "outputs": [
    {
     "data": {
      "text/plain": [
       "<sklearn.metrics._plot.confusion_matrix.ConfusionMatrixDisplay at 0x7fbe7f5b4910>"
      ]
     },
     "execution_count": 27,
     "metadata": {},
     "output_type": "execute_result"
    },
    {
     "data": {
      "image/png": "[encoded data removed]",
      "text/plain": [
       "<Figure size 640x480 with 2 Axes>"
      ]
     },
     "metadata": {},
     "output_type": "display_data"
    }
   ],
   "source": [
    "ConfusionMatrixDisplay.from_predictions(df[\"y\"], df[\"y_pred_logicoil\"], cmap='Blues')"
   ]
  },
  {
   "cell_type": "code",
   "execution_count": 11,
   "id": "f376753e",
   "metadata": {},
   "outputs": [
    {
     "data": {
      "text/plain": [
       "(0.8495652058644184, 0.6997353261089856)"
      ]
     },
     "execution_count": 11,
     "metadata": {},
     "output_type": "execute_result"
    }
   ],
   "source": [
    "f1_score(df[\"y\"], df[\"y_pred\"], average=\"macro\"), f1_score(df[\"y\"], df[\"y_pred_logicoil\"], average=\"macro\")"
   ]
  },
  {
   "cell_type": "code",
   "execution_count": 12,
   "id": "804a2336",
   "metadata": {},
   "outputs": [],
   "source": [
    "df = df[df[\"logicoil_seq\"].str.len() >= 40]"
   ]
  },
  {
   "cell_type": "code",
   "execution_count": 13,
   "id": "802b4a53",
   "metadata": {},
   "outputs": [
    {
     "data": {
      "text/plain": [
       "<sklearn.metrics._plot.confusion_matrix.ConfusionMatrixDisplay at 0x7fbe7f626f70>"
      ]
     },
     "execution_count": 13,
     "metadata": {},
     "output_type": "execute_result"
    },
    {
     "data": {
      "image/png": "[encoded data removed]",
      "text/plain": [
       "<Figure size 640x480 with 2 Axes>"
      ]
     },
     "metadata": {},
     "output_type": "display_data"
    }
   ],
   "source": [
    "ConfusionMatrixDisplay.from_predictions(df[\"y\"], df[\"y_pred\"], cmap='Blues')"
   ]
  },
  {
   "cell_type": "code",
   "execution_count": 14,
   "id": "d3b64e9a",
   "metadata": {},
   "outputs": [
    {
     "data": {
      "text/plain": [
       "<sklearn.metrics._plot.confusion_matrix.ConfusionMatrixDisplay at 0x7fbe7f74d250>"
      ]
     },
     "execution_count": 14,
     "metadata": {},
     "output_type": "execute_result"
    },
    {
     "data": {
      "image/png": "[encoded data removed]",
      "text/plain": [
       "<Figure size 640x480 with 2 Axes>"
      ]
     },
     "metadata": {},
     "output_type": "display_data"
    }
   ],
   "source": [
    "ConfusionMatrixDisplay.from_predictions(df[\"y\"], df[\"y_pred_logicoil\"], cmap='Blues')"
   ]
  },
  {
   "cell_type": "code",
   "execution_count": 15,
   "id": "cdff564e",
   "metadata": {},
   "outputs": [
    {
     "data": {
      "text/plain": [
       "<sklearn.metrics._plot.confusion_matrix.ConfusionMatrixDisplay at 0x7fbe7f570130>"
      ]
     },
     "execution_count": 15,
     "metadata": {},
     "output_type": "execute_result"
    },
    {
     "data": {
      "image/png": "[encoded data removed]",
      "text/plain": [
       "<Figure size 640x480 with 2 Axes>"
      ]
     },
     "metadata": {},
     "output_type": "display_data"
    }
   ],
   "source": [
    "ConfusionMatrixDisplay.from_predictions(df[\"y\"], df[\"y_pred_coconat\"], cmap='Blues')"
   ]
  },
  {
   "cell_type": "code",
   "execution_count": 16,
   "id": "5604c426",
   "metadata": {},
   "outputs": [
    {
     "data": {
      "text/plain": [
       "(0.8281970649895177, 0.6450721908349027, 0.6413223140495868)"
      ]
     },
     "execution_count": 16,
     "metadata": {},
     "output_type": "execute_result"
    }
   ],
   "source": [
    "f1_score(df[\"y\"], df[\"y_pred\"], average=\"macro\"), f1_score(df[\"y\"], df[\"y_pred_logicoil\"], average=\"macro\"), f1_score(df[\"y\"], df[\"y_pred_coconat\"], average=\"macro\")"
   ]
  },
  {
   "cell_type": "code",
   "execution_count": null,
   "id": "9742a0f7",
   "metadata": {},
   "outputs": [],
   "source": []
  }
 ],
 "metadata": {
  "kernelspec": {
   "display_name": "Python 3 (ipykernel)",
   "language": "python",
   "name": "python3"
  },
  "language_info": {
   "codemirror_mode": {
    "name": "ipython",
    "version": 3
   },
   "file_extension": ".py",
   "mimetype": "text/x-python",
   "name": "python",
   "nbconvert_exporter": "python",
   "pygments_lexer": "ipython3",
   "version": "3.9.7"
  }
 },
 "nbformat": 4,
 "nbformat_minor": 5
}

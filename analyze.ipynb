{
 "cells": [
  {
   "cell_type": "code",
   "execution_count": 1,
   "id": "c91d3cac",
   "metadata": {},
   "outputs": [],
   "source": [
    "from sklearn.calibration import calibration_curve\n",
    "from sklearn.metrics import accuracy_score, confusion_matrix, ConfusionMatrixDisplay, f1_score"
   ]
  },
  {
   "cell_type": "code",
   "execution_count": 33,
   "id": "cbf3cff6",
   "metadata": {},
   "outputs": [],
   "source": [
    "import numpy as np\n",
    "import sklearn\n",
    "import glob\n",
    "import pandas as pd\n",
    "\n",
    "#import seaborn as sns\n",
    "import matplotlib.pyplot as plt"
   ]
  },
  {
   "cell_type": "code",
   "execution_count": 34,
   "id": "9b1611f9",
   "metadata": {},
   "outputs": [
    {
     "name": "stdout",
     "output_type": "stream",
     "text": [
      "/home/nfs/rmadaj/IDUB/dc2_oligo\n"
     ]
    }
   ],
   "source": [
    "!pwd"
   ]
  },
  {
   "cell_type": "code",
   "execution_count": 35,
   "id": "3f72b97e",
   "metadata": {},
   "outputs": [],
   "source": [
    "df = pd.read_csv(\"results.csv\", index_col=0)"
   ]
  },
  {
   "cell_type": "code",
   "execution_count": 36,
   "id": "e44571fd",
   "metadata": {},
   "outputs": [
    {
     "data": {
      "text/plain": [
       "<sklearn.metrics._plot.confusion_matrix.ConfusionMatrixDisplay at 0x7f4ab26b3340>"
      ]
     },
     "execution_count": 36,
     "metadata": {},
     "output_type": "execute_result"
    },
    {
     "data": {
      "image/png": "[encoded data removed]",
      "text/plain": [
       "<Figure size 432x288 with 2 Axes>"
      ]
     },
     "metadata": {
      "needs_background": "light"
     },
     "output_type": "display_data"
    }
   ],
   "source": [
    "ConfusionMatrixDisplay.from_predictions(df[\"y\"], df[\"y_pred\"], cmap='Blues')"
   ]
  },
  {
   "cell_type": "code",
   "execution_count": 37,
   "id": "836c93db",
   "metadata": {},
   "outputs": [
    {
     "data": {
      "text/plain": [
       "array([[82,  6,  7],\n",
       "       [10, 71,  8],\n",
       "       [ 5,  7, 50]])"
      ]
     },
     "execution_count": 37,
     "metadata": {},
     "output_type": "execute_result"
    }
   ],
   "source": [
    "confusion_matrix(df[\"y\"], df[\"y_pred\"])"
   ]
  },
  {
   "cell_type": "code",
   "execution_count": 38,
   "id": "6a048597",
   "metadata": {},
   "outputs": [
    {
     "data": {
      "text/plain": [
       "246"
      ]
     },
     "execution_count": 38,
     "metadata": {},
     "output_type": "execute_result"
    }
   ],
   "source": [
    "len(df)"
   ]
  },
  {
   "cell_type": "code",
   "execution_count": 39,
   "id": "dfb9449e",
   "metadata": {},
   "outputs": [
    {
     "data": {
      "image/png": "[encoded data removed]",
      "text/plain": [
       "<Figure size 432x288 with 1 Axes>"
      ]
     },
     "metadata": {
      "needs_background": "light"
     },
     "output_type": "display_data"
    }
   ],
   "source": [
    "plt.plot([0, 1], [0, 1], linestyle='--')\n",
    "for pr, i in zip([\"prob_dimer\", \"prob_trimer\", \"prob_tetramer\"], [0, 1, 2]):\n",
    "    xc, yc = calibration_curve([1 if y_ == i else 0 for y_ in df[\"y\"].values], df[pr].values, n_bins=5)\n",
    "    plt.plot(xc, yc)"
   ]
  },
  {
   "cell_type": "code",
   "execution_count": 40,
   "id": "725d299d",
   "metadata": {},
   "outputs": [
    {
     "data": {
      "text/plain": [
       "(246, 246)"
      ]
     },
     "execution_count": 40,
     "metadata": {},
     "output_type": "execute_result"
    }
   ],
   "source": [
    "len(df), len(df.pdb.unique())"
   ]
  },
  {
   "cell_type": "code",
   "execution_count": 41,
   "id": "87a26b5d",
   "metadata": {},
   "outputs": [
    {
     "name": "stdout",
     "output_type": "stream",
     "text": [
      "/home/nfs/rmadaj/IDUB/dc2_oligo\n"
     ]
    }
   ],
   "source": [
    "!pwd"
   ]
  },
  {
   "cell_type": "code",
   "execution_count": 42,
   "id": "3021aa55",
   "metadata": {},
   "outputs": [],
   "source": [
    "df_ref = pd.read_csv(\"unified_results_updated_180823.csv\", index_col=0)"
   ]
  },
  {
   "cell_type": "code",
   "execution_count": 43,
   "id": "71497992",
   "metadata": {},
   "outputs": [
    {
     "data": {
      "text/html": [
       "<div>\n",
       "<style scoped>\n",
       "    .dataframe tbody tr th:only-of-type {\n",
       "        vertical-align: middle;\n",
       "    }\n",
       "\n",
       "    .dataframe tbody tr th {\n",
       "        vertical-align: top;\n",
       "    }\n",
       "\n",
       "    .dataframe thead th {\n",
       "        text-align: right;\n",
       "    }\n",
       "</style>\n",
       "<table border=\"1\" class=\"dataframe\">\n",
       "  <thead>\n",
       "    <tr style=\"text-align: right;\">\n",
       "      <th></th>\n",
       "      <th>pdb</th>\n",
       "      <th>cc_cov</th>\n",
       "      <th>chains</th>\n",
       "      <th>cc_sequence</th>\n",
       "      <th>full_sequence</th>\n",
       "      <th>full_seq_corr</th>\n",
       "      <th>cc_seq_corr</th>\n",
       "      <th>parallel</th>\n",
       "      <th>y</th>\n",
       "      <th>y_pred</th>\n",
       "      <th>prob_dimer</th>\n",
       "      <th>prob_trimer</th>\n",
       "      <th>prob_tetramer</th>\n",
       "    </tr>\n",
       "  </thead>\n",
       "  <tbody>\n",
       "    <tr>\n",
       "      <th>0</th>\n",
       "      <td>3e7k</td>\n",
       "      <td>0.851852</td>\n",
       "      <td>4</td>\n",
       "      <td>TFERVEQMSIQIKEVGDRVNYIKRSLQSLDSQIGHLQDLSALTVDT</td>\n",
       "      <td>SRVTFERVEQMSIQIKEVGDRVNYIKRSLQSLDSQIGHLQDLSALT...</td>\n",
       "      <td>True</td>\n",
       "      <td>False</td>\n",
       "      <td>False</td>\n",
       "      <td>2</td>\n",
       "      <td>1</td>\n",
       "      <td>0.000915</td>\n",
       "      <td>0.788365</td>\n",
       "      <td>0.210720</td>\n",
       "    </tr>\n",
       "    <tr>\n",
       "      <th>1</th>\n",
       "      <td>1use</td>\n",
       "      <td>0.550000</td>\n",
       "      <td>4</td>\n",
       "      <td>YSDLQRVKQELLEEVKKELQKV</td>\n",
       "      <td>SSDYSDLQRVKQELLEEVKKELQKVKEEIIEAFVQELRKR</td>\n",
       "      <td>False</td>\n",
       "      <td>False</td>\n",
       "      <td>True</td>\n",
       "      <td>2</td>\n",
       "      <td>0</td>\n",
       "      <td>0.698538</td>\n",
       "      <td>0.056970</td>\n",
       "      <td>0.244491</td>\n",
       "    </tr>\n",
       "    <tr>\n",
       "      <th>2</th>\n",
       "      <td>6us8</td>\n",
       "      <td>0.826087</td>\n",
       "      <td>4</td>\n",
       "      <td>LVVAASIIGILHLILWILD</td>\n",
       "      <td>DPLVVAASIIGILHLILWILDRL</td>\n",
       "      <td>True</td>\n",
       "      <td>False</td>\n",
       "      <td>True</td>\n",
       "      <td>2</td>\n",
       "      <td>2</td>\n",
       "      <td>0.000181</td>\n",
       "      <td>0.005361</td>\n",
       "      <td>0.994458</td>\n",
       "    </tr>\n",
       "    <tr>\n",
       "      <th>3</th>\n",
       "      <td>5kht</td>\n",
       "      <td>0.893617</td>\n",
       "      <td>2</td>\n",
       "      <td>DAIKKKMQMLKLDKENALDRAEQAEADNYHLENEVARLKKL</td>\n",
       "      <td>GMDAIKKKMQMLKLDKENALDRAEQAEADNYHLENEVARLKKLVGER</td>\n",
       "      <td>False</td>\n",
       "      <td>True</td>\n",
       "      <td>True</td>\n",
       "      <td>0</td>\n",
       "      <td>0</td>\n",
       "      <td>0.977339</td>\n",
       "      <td>0.016053</td>\n",
       "      <td>0.006608</td>\n",
       "    </tr>\n",
       "    <tr>\n",
       "      <th>4</th>\n",
       "      <td>5c9n</td>\n",
       "      <td>0.671875</td>\n",
       "      <td>2</td>\n",
       "      <td>CSWEEAQLSSQLYRNKQLQDTLVQKEEELARLHEENNHLRQYL</td>\n",
       "      <td>LPDLCSWEEAQLSSQLYRNKQLQDTLVQKEEELARLHEENNHLRQY...</td>\n",
       "      <td>True</td>\n",
       "      <td>False</td>\n",
       "      <td>True</td>\n",
       "      <td>0</td>\n",
       "      <td>0</td>\n",
       "      <td>0.983460</td>\n",
       "      <td>0.012839</td>\n",
       "      <td>0.003701</td>\n",
       "    </tr>\n",
       "    <tr>\n",
       "      <th>...</th>\n",
       "      <td>...</td>\n",
       "      <td>...</td>\n",
       "      <td>...</td>\n",
       "      <td>...</td>\n",
       "      <td>...</td>\n",
       "      <td>...</td>\n",
       "      <td>...</td>\n",
       "      <td>...</td>\n",
       "      <td>...</td>\n",
       "      <td>...</td>\n",
       "      <td>...</td>\n",
       "      <td>...</td>\n",
       "      <td>...</td>\n",
       "    </tr>\n",
       "    <tr>\n",
       "      <th>243</th>\n",
       "      <td>5kb1</td>\n",
       "      <td>0.888889</td>\n",
       "      <td>3</td>\n",
       "      <td>WEALEKKLAALESKCQALEKKLQALEKKHEAL</td>\n",
       "      <td>EWEALEKKLAALESKCQALEKKLQALEKKHEALEHG</td>\n",
       "      <td>False</td>\n",
       "      <td>False</td>\n",
       "      <td>True</td>\n",
       "      <td>1</td>\n",
       "      <td>1</td>\n",
       "      <td>0.004225</td>\n",
       "      <td>0.991753</td>\n",
       "      <td>0.004022</td>\n",
       "    </tr>\n",
       "    <tr>\n",
       "      <th>244</th>\n",
       "      <td>4h22</td>\n",
       "      <td>0.876543</td>\n",
       "      <td>2</td>\n",
       "      <td>YKKAMVSNAQLDNEKTNFMYQVDTLKDMLLELEEQLAESRRQYEEK...</td>\n",
       "      <td>EEKYKKAMVSNAQLDNEKTNFMYQVDTLKDMLLELEEQLAESRRQY...</td>\n",
       "      <td>True</td>\n",
       "      <td>False</td>\n",
       "      <td>True</td>\n",
       "      <td>0</td>\n",
       "      <td>0</td>\n",
       "      <td>0.978373</td>\n",
       "      <td>0.000017</td>\n",
       "      <td>0.021610</td>\n",
       "    </tr>\n",
       "    <tr>\n",
       "      <th>245</th>\n",
       "      <td>1kyc</td>\n",
       "      <td>0.800000</td>\n",
       "      <td>3</td>\n",
       "      <td>LRRRIEELERRI</td>\n",
       "      <td>EELRRRIEELERRIR</td>\n",
       "      <td>False</td>\n",
       "      <td>False</td>\n",
       "      <td>True</td>\n",
       "      <td>1</td>\n",
       "      <td>1</td>\n",
       "      <td>0.016902</td>\n",
       "      <td>0.597433</td>\n",
       "      <td>0.385665</td>\n",
       "    </tr>\n",
       "    <tr>\n",
       "      <th>246</th>\n",
       "      <td>2zfc</td>\n",
       "      <td>0.909091</td>\n",
       "      <td>3</td>\n",
       "      <td>LVQQQNNILRALEATQHAVQALVWGVKQLQARVLALERYI</td>\n",
       "      <td>VSGLVQQQNNILRALEATQHAVQALVWGVKQLQARVLALERYIK</td>\n",
       "      <td>False</td>\n",
       "      <td>False</td>\n",
       "      <td>True</td>\n",
       "      <td>1</td>\n",
       "      <td>1</td>\n",
       "      <td>0.020959</td>\n",
       "      <td>0.851865</td>\n",
       "      <td>0.127176</td>\n",
       "    </tr>\n",
       "    <tr>\n",
       "      <th>247</th>\n",
       "      <td>5djn</td>\n",
       "      <td>0.831169</td>\n",
       "      <td>2</td>\n",
       "      <td>IRELREEVEKLREQLSQAEAMKAELKEKLEESEKLIKELTVTWEEK...</td>\n",
       "      <td>PNAKVIRELREEVEKLREQLSQAEAMKAELKEKLEESEKLIKELTV...</td>\n",
       "      <td>True</td>\n",
       "      <td>False</td>\n",
       "      <td>True</td>\n",
       "      <td>0</td>\n",
       "      <td>0</td>\n",
       "      <td>0.670408</td>\n",
       "      <td>0.329584</td>\n",
       "      <td>0.000008</td>\n",
       "    </tr>\n",
       "  </tbody>\n",
       "</table>\n",
       "<p>246 rows × 13 columns</p>\n",
       "</div>"
      ],
      "text/plain": [
       "      pdb    cc_cov  chains  \\\n",
       "0    3e7k  0.851852       4   \n",
       "1    1use  0.550000       4   \n",
       "2    6us8  0.826087       4   \n",
       "3    5kht  0.893617       2   \n",
       "4    5c9n  0.671875       2   \n",
       "..    ...       ...     ...   \n",
       "243  5kb1  0.888889       3   \n",
       "244  4h22  0.876543       2   \n",
       "245  1kyc  0.800000       3   \n",
       "246  2zfc  0.909091       3   \n",
       "247  5djn  0.831169       2   \n",
       "\n",
       "                                           cc_sequence  \\\n",
       "0       TFERVEQMSIQIKEVGDRVNYIKRSLQSLDSQIGHLQDLSALTVDT   \n",
       "1                               YSDLQRVKQELLEEVKKELQKV   \n",
       "2                                  LVVAASIIGILHLILWILD   \n",
       "3            DAIKKKMQMLKLDKENALDRAEQAEADNYHLENEVARLKKL   \n",
       "4          CSWEEAQLSSQLYRNKQLQDTLVQKEEELARLHEENNHLRQYL   \n",
       "..                                                 ...   \n",
       "243                   WEALEKKLAALESKCQALEKKLQALEKKHEAL   \n",
       "244  YKKAMVSNAQLDNEKTNFMYQVDTLKDMLLELEEQLAESRRQYEEK...   \n",
       "245                                       LRRRIEELERRI   \n",
       "246           LVQQQNNILRALEATQHAVQALVWGVKQLQARVLALERYI   \n",
       "247  IRELREEVEKLREQLSQAEAMKAELKEKLEESEKLIKELTVTWEEK...   \n",
       "\n",
       "                                         full_sequence  full_seq_corr  \\\n",
       "0    SRVTFERVEQMSIQIKEVGDRVNYIKRSLQSLDSQIGHLQDLSALT...           True   \n",
       "1             SSDYSDLQRVKQELLEEVKKELQKVKEEIIEAFVQELRKR          False   \n",
       "2                              DPLVVAASIIGILHLILWILDRL           True   \n",
       "3      GMDAIKKKMQMLKLDKENALDRAEQAEADNYHLENEVARLKKLVGER          False   \n",
       "4    LPDLCSWEEAQLSSQLYRNKQLQDTLVQKEEELARLHEENNHLRQY...           True   \n",
       "..                                                 ...            ...   \n",
       "243               EWEALEKKLAALESKCQALEKKLQALEKKHEALEHG          False   \n",
       "244  EEKYKKAMVSNAQLDNEKTNFMYQVDTLKDMLLELEEQLAESRRQY...           True   \n",
       "245                                    EELRRRIEELERRIR          False   \n",
       "246       VSGLVQQQNNILRALEATQHAVQALVWGVKQLQARVLALERYIK          False   \n",
       "247  PNAKVIRELREEVEKLREQLSQAEAMKAELKEKLEESEKLIKELTV...           True   \n",
       "\n",
       "     cc_seq_corr  parallel  y  y_pred  prob_dimer  prob_trimer  prob_tetramer  \n",
       "0          False     False  2       1    0.000915     0.788365       0.210720  \n",
       "1          False      True  2       0    0.698538     0.056970       0.244491  \n",
       "2          False      True  2       2    0.000181     0.005361       0.994458  \n",
       "3           True      True  0       0    0.977339     0.016053       0.006608  \n",
       "4          False      True  0       0    0.983460     0.012839       0.003701  \n",
       "..           ...       ... ..     ...         ...          ...            ...  \n",
       "243        False      True  1       1    0.004225     0.991753       0.004022  \n",
       "244        False      True  0       0    0.978373     0.000017       0.021610  \n",
       "245        False      True  1       1    0.016902     0.597433       0.385665  \n",
       "246        False      True  1       1    0.020959     0.851865       0.127176  \n",
       "247        False      True  0       0    0.670408     0.329584       0.000008  \n",
       "\n",
       "[246 rows x 13 columns]"
      ]
     },
     "execution_count": 43,
     "metadata": {},
     "output_type": "execute_result"
    }
   ],
   "source": [
    "df"
   ]
  },
  {
   "cell_type": "code",
   "execution_count": 44,
   "id": "67345fb6",
   "metadata": {},
   "outputs": [],
   "source": [
    "# df_ref[\"y_pred_logicoil\"] = np.argmax(df_ref[['Parallel Dimer', 'Tetramer', 'Trimer', 'Antiparallel dimer']].values, axis=1)\n",
    "# df_ref[\"y_pred_logicoil\"] = df_ref[\"y_pred_logicoil\"].apply(lambda x: x if x != 3 else 0)\n",
    "df = pd.merge(df, df_ref, left_on=\"pdb\", right_on=\"pdb\")"
   ]
  },
  {
   "cell_type": "code",
   "execution_count": 45,
   "id": "3c4731ae",
   "metadata": {},
   "outputs": [
    {
     "data": {
      "text/html": [
       "<div>\n",
       "<style scoped>\n",
       "    .dataframe tbody tr th:only-of-type {\n",
       "        vertical-align: middle;\n",
       "    }\n",
       "\n",
       "    .dataframe tbody tr th {\n",
       "        vertical-align: top;\n",
       "    }\n",
       "\n",
       "    .dataframe thead th {\n",
       "        text-align: right;\n",
       "    }\n",
       "</style>\n",
       "<table border=\"1\" class=\"dataframe\">\n",
       "  <thead>\n",
       "    <tr style=\"text-align: right;\">\n",
       "      <th></th>\n",
       "      <th>pdb</th>\n",
       "      <th>cc_cov_x</th>\n",
       "      <th>chains_x</th>\n",
       "      <th>cc_sequence_x</th>\n",
       "      <th>full_sequence</th>\n",
       "      <th>full_seq_corr</th>\n",
       "      <th>cc_seq_corr</th>\n",
       "      <th>parallel_x</th>\n",
       "      <th>y</th>\n",
       "      <th>y_pred</th>\n",
       "      <th>...</th>\n",
       "      <th>logicoil_seq</th>\n",
       "      <th>seq_length_difference</th>\n",
       "      <th>y_pred_logicoil</th>\n",
       "      <th>y_pred_dc2</th>\n",
       "      <th>y_true</th>\n",
       "      <th>ID</th>\n",
       "      <th>OligoState</th>\n",
       "      <th>parallel_y</th>\n",
       "      <th>prob_oligo_coconat</th>\n",
       "      <th>y_pred_coconat</th>\n",
       "    </tr>\n",
       "  </thead>\n",
       "  <tbody>\n",
       "    <tr>\n",
       "      <th>0</th>\n",
       "      <td>3e7k</td>\n",
       "      <td>0.851852</td>\n",
       "      <td>4</td>\n",
       "      <td>TFERVEQMSIQIKEVGDRVNYIKRSLQSLDSQIGHLQDLSALTVDT</td>\n",
       "      <td>SRVTFERVEQMSIQIKEVGDRVNYIKRSLQSLDSQIGHLQDLSALT...</td>\n",
       "      <td>True</td>\n",
       "      <td>False</td>\n",
       "      <td>False</td>\n",
       "      <td>2</td>\n",
       "      <td>1</td>\n",
       "      <td>...</td>\n",
       "      <td>TFERVEQMSIQIKEVGDRVNYIKRSLQSLDSQIGHLQDLSALTVDT</td>\n",
       "      <td>0</td>\n",
       "      <td>2</td>\n",
       "      <td>1</td>\n",
       "      <td>2</td>\n",
       "      <td>3e7k</td>\n",
       "      <td>4.0</td>\n",
       "      <td>0.0</td>\n",
       "      <td>0.536410</td>\n",
       "      <td>2</td>\n",
       "    </tr>\n",
       "    <tr>\n",
       "      <th>1</th>\n",
       "      <td>1use</td>\n",
       "      <td>0.550000</td>\n",
       "      <td>4</td>\n",
       "      <td>YSDLQRVKQELLEEVKKELQKV</td>\n",
       "      <td>SSDYSDLQRVKQELLEEVKKELQKVKEEIIEAFVQELRKR</td>\n",
       "      <td>False</td>\n",
       "      <td>False</td>\n",
       "      <td>True</td>\n",
       "      <td>2</td>\n",
       "      <td>0</td>\n",
       "      <td>...</td>\n",
       "      <td>YSDLQRVKQELLEEVKKELQKV</td>\n",
       "      <td>0</td>\n",
       "      <td>0</td>\n",
       "      <td>2</td>\n",
       "      <td>2</td>\n",
       "      <td>1use</td>\n",
       "      <td>4.0</td>\n",
       "      <td>0.0</td>\n",
       "      <td>0.463654</td>\n",
       "      <td>2</td>\n",
       "    </tr>\n",
       "    <tr>\n",
       "      <th>2</th>\n",
       "      <td>6us8</td>\n",
       "      <td>0.826087</td>\n",
       "      <td>4</td>\n",
       "      <td>LVVAASIIGILHLILWILD</td>\n",
       "      <td>DPLVVAASIIGILHLILWILDRL</td>\n",
       "      <td>True</td>\n",
       "      <td>False</td>\n",
       "      <td>True</td>\n",
       "      <td>2</td>\n",
       "      <td>2</td>\n",
       "      <td>...</td>\n",
       "      <td>LVVAASIIGILHLILWILD</td>\n",
       "      <td>0</td>\n",
       "      <td>2</td>\n",
       "      <td>2</td>\n",
       "      <td>2</td>\n",
       "      <td>6us8</td>\n",
       "      <td>4.0</td>\n",
       "      <td>0.0</td>\n",
       "      <td>0.347972</td>\n",
       "      <td>2</td>\n",
       "    </tr>\n",
       "    <tr>\n",
       "      <th>3</th>\n",
       "      <td>5kht</td>\n",
       "      <td>0.893617</td>\n",
       "      <td>2</td>\n",
       "      <td>DAIKKKMQMLKLDKENALDRAEQAEADNYHLENEVARLKKL</td>\n",
       "      <td>GMDAIKKKMQMLKLDKENALDRAEQAEADNYHLENEVARLKKLVGER</td>\n",
       "      <td>False</td>\n",
       "      <td>True</td>\n",
       "      <td>True</td>\n",
       "      <td>0</td>\n",
       "      <td>0</td>\n",
       "      <td>...</td>\n",
       "      <td>MDAIKKKMQMLKLDKENALDRAEQAEADNYHLENEVARLKKL</td>\n",
       "      <td>1</td>\n",
       "      <td>0</td>\n",
       "      <td>0</td>\n",
       "      <td>0</td>\n",
       "      <td>5kht</td>\n",
       "      <td>2.0</td>\n",
       "      <td>1.0</td>\n",
       "      <td>0.882084</td>\n",
       "      <td>0</td>\n",
       "    </tr>\n",
       "    <tr>\n",
       "      <th>4</th>\n",
       "      <td>5c9n</td>\n",
       "      <td>0.671875</td>\n",
       "      <td>2</td>\n",
       "      <td>CSWEEAQLSSQLYRNKQLQDTLVQKEEELARLHEENNHLRQYL</td>\n",
       "      <td>LPDLCSWEEAQLSSQLYRNKQLQDTLVQKEEELARLHEENNHLRQY...</td>\n",
       "      <td>True</td>\n",
       "      <td>False</td>\n",
       "      <td>True</td>\n",
       "      <td>0</td>\n",
       "      <td>0</td>\n",
       "      <td>...</td>\n",
       "      <td>CSWEEAQLSSQLYRNKQLQDTLVQKEEELARLHEENNHLRQYL</td>\n",
       "      <td>0</td>\n",
       "      <td>0</td>\n",
       "      <td>0</td>\n",
       "      <td>0</td>\n",
       "      <td>5c9n</td>\n",
       "      <td>2.0</td>\n",
       "      <td>1.0</td>\n",
       "      <td>0.951481</td>\n",
       "      <td>0</td>\n",
       "    </tr>\n",
       "    <tr>\n",
       "      <th>...</th>\n",
       "      <td>...</td>\n",
       "      <td>...</td>\n",
       "      <td>...</td>\n",
       "      <td>...</td>\n",
       "      <td>...</td>\n",
       "      <td>...</td>\n",
       "      <td>...</td>\n",
       "      <td>...</td>\n",
       "      <td>...</td>\n",
       "      <td>...</td>\n",
       "      <td>...</td>\n",
       "      <td>...</td>\n",
       "      <td>...</td>\n",
       "      <td>...</td>\n",
       "      <td>...</td>\n",
       "      <td>...</td>\n",
       "      <td>...</td>\n",
       "      <td>...</td>\n",
       "      <td>...</td>\n",
       "      <td>...</td>\n",
       "      <td>...</td>\n",
       "    </tr>\n",
       "    <tr>\n",
       "      <th>241</th>\n",
       "      <td>5kb1</td>\n",
       "      <td>0.888889</td>\n",
       "      <td>3</td>\n",
       "      <td>WEALEKKLAALESKCQALEKKLQALEKKHEAL</td>\n",
       "      <td>EWEALEKKLAALESKCQALEKKLQALEKKHEALEHG</td>\n",
       "      <td>False</td>\n",
       "      <td>False</td>\n",
       "      <td>True</td>\n",
       "      <td>1</td>\n",
       "      <td>1</td>\n",
       "      <td>...</td>\n",
       "      <td>WEALEKKLAALESKCQALEKKLQALEKKHEAL</td>\n",
       "      <td>0</td>\n",
       "      <td>1</td>\n",
       "      <td>1</td>\n",
       "      <td>1</td>\n",
       "      <td>5kb1</td>\n",
       "      <td>3.0</td>\n",
       "      <td>0.0</td>\n",
       "      <td>0.487012</td>\n",
       "      <td>1</td>\n",
       "    </tr>\n",
       "    <tr>\n",
       "      <th>242</th>\n",
       "      <td>4h22</td>\n",
       "      <td>0.876543</td>\n",
       "      <td>2</td>\n",
       "      <td>YKKAMVSNAQLDNEKTNFMYQVDTLKDMLLELEEQLAESRRQYEEK...</td>\n",
       "      <td>EEKYKKAMVSNAQLDNEKTNFMYQVDTLKDMLLELEEQLAESRRQY...</td>\n",
       "      <td>True</td>\n",
       "      <td>False</td>\n",
       "      <td>True</td>\n",
       "      <td>0</td>\n",
       "      <td>0</td>\n",
       "      <td>...</td>\n",
       "      <td>YKKAMVSNAQLDNEKTNFMYQVDTLKDMLLELEEQLAESRRQYEEK...</td>\n",
       "      <td>0</td>\n",
       "      <td>0</td>\n",
       "      <td>0</td>\n",
       "      <td>0</td>\n",
       "      <td>4h22</td>\n",
       "      <td>2.0</td>\n",
       "      <td>1.0</td>\n",
       "      <td>0.960981</td>\n",
       "      <td>0</td>\n",
       "    </tr>\n",
       "    <tr>\n",
       "      <th>243</th>\n",
       "      <td>1kyc</td>\n",
       "      <td>0.800000</td>\n",
       "      <td>3</td>\n",
       "      <td>LRRRIEELERRI</td>\n",
       "      <td>EELRRRIEELERRIR</td>\n",
       "      <td>False</td>\n",
       "      <td>False</td>\n",
       "      <td>True</td>\n",
       "      <td>1</td>\n",
       "      <td>1</td>\n",
       "      <td>...</td>\n",
       "      <td>LRRRIEELERRI</td>\n",
       "      <td>0</td>\n",
       "      <td>1</td>\n",
       "      <td>1</td>\n",
       "      <td>1</td>\n",
       "      <td>1kyc</td>\n",
       "      <td>3.0</td>\n",
       "      <td>0.0</td>\n",
       "      <td>0.447140</td>\n",
       "      <td>1</td>\n",
       "    </tr>\n",
       "    <tr>\n",
       "      <th>244</th>\n",
       "      <td>2zfc</td>\n",
       "      <td>0.909091</td>\n",
       "      <td>3</td>\n",
       "      <td>LVQQQNNILRALEATQHAVQALVWGVKQLQARVLALERYI</td>\n",
       "      <td>VSGLVQQQNNILRALEATQHAVQALVWGVKQLQARVLALERYIK</td>\n",
       "      <td>False</td>\n",
       "      <td>False</td>\n",
       "      <td>True</td>\n",
       "      <td>1</td>\n",
       "      <td>1</td>\n",
       "      <td>...</td>\n",
       "      <td>LVQQQNNILRALEATQHAVQALVWGVKQLQARVLALERYI</td>\n",
       "      <td>0</td>\n",
       "      <td>1</td>\n",
       "      <td>1</td>\n",
       "      <td>1</td>\n",
       "      <td>2zfc</td>\n",
       "      <td>3.0</td>\n",
       "      <td>0.0</td>\n",
       "      <td>0.643462</td>\n",
       "      <td>1</td>\n",
       "    </tr>\n",
       "    <tr>\n",
       "      <th>245</th>\n",
       "      <td>5djn</td>\n",
       "      <td>0.831169</td>\n",
       "      <td>2</td>\n",
       "      <td>IRELREEVEKLREQLSQAEAMKAELKEKLEESEKLIKELTVTWEEK...</td>\n",
       "      <td>PNAKVIRELREEVEKLREQLSQAEAMKAELKEKLEESEKLIKELTV...</td>\n",
       "      <td>True</td>\n",
       "      <td>False</td>\n",
       "      <td>True</td>\n",
       "      <td>0</td>\n",
       "      <td>0</td>\n",
       "      <td>...</td>\n",
       "      <td>IRELREEVEKLREQLSQAEAMKAELKEKLEESEKLIKELTVTWEEK...</td>\n",
       "      <td>0</td>\n",
       "      <td>0</td>\n",
       "      <td>0</td>\n",
       "      <td>0</td>\n",
       "      <td>5djn</td>\n",
       "      <td>2.0</td>\n",
       "      <td>1.0</td>\n",
       "      <td>0.818186</td>\n",
       "      <td>0</td>\n",
       "    </tr>\n",
       "  </tbody>\n",
       "</table>\n",
       "<p>246 rows × 39 columns</p>\n",
       "</div>"
      ],
      "text/plain": [
       "      pdb  cc_cov_x  chains_x  \\\n",
       "0    3e7k  0.851852         4   \n",
       "1    1use  0.550000         4   \n",
       "2    6us8  0.826087         4   \n",
       "3    5kht  0.893617         2   \n",
       "4    5c9n  0.671875         2   \n",
       "..    ...       ...       ...   \n",
       "241  5kb1  0.888889         3   \n",
       "242  4h22  0.876543         2   \n",
       "243  1kyc  0.800000         3   \n",
       "244  2zfc  0.909091         3   \n",
       "245  5djn  0.831169         2   \n",
       "\n",
       "                                         cc_sequence_x  \\\n",
       "0       TFERVEQMSIQIKEVGDRVNYIKRSLQSLDSQIGHLQDLSALTVDT   \n",
       "1                               YSDLQRVKQELLEEVKKELQKV   \n",
       "2                                  LVVAASIIGILHLILWILD   \n",
       "3            DAIKKKMQMLKLDKENALDRAEQAEADNYHLENEVARLKKL   \n",
       "4          CSWEEAQLSSQLYRNKQLQDTLVQKEEELARLHEENNHLRQYL   \n",
       "..                                                 ...   \n",
       "241                   WEALEKKLAALESKCQALEKKLQALEKKHEAL   \n",
       "242  YKKAMVSNAQLDNEKTNFMYQVDTLKDMLLELEEQLAESRRQYEEK...   \n",
       "243                                       LRRRIEELERRI   \n",
       "244           LVQQQNNILRALEATQHAVQALVWGVKQLQARVLALERYI   \n",
       "245  IRELREEVEKLREQLSQAEAMKAELKEKLEESEKLIKELTVTWEEK...   \n",
       "\n",
       "                                         full_sequence  full_seq_corr  \\\n",
       "0    SRVTFERVEQMSIQIKEVGDRVNYIKRSLQSLDSQIGHLQDLSALT...           True   \n",
       "1             SSDYSDLQRVKQELLEEVKKELQKVKEEIIEAFVQELRKR          False   \n",
       "2                              DPLVVAASIIGILHLILWILDRL           True   \n",
       "3      GMDAIKKKMQMLKLDKENALDRAEQAEADNYHLENEVARLKKLVGER          False   \n",
       "4    LPDLCSWEEAQLSSQLYRNKQLQDTLVQKEEELARLHEENNHLRQY...           True   \n",
       "..                                                 ...            ...   \n",
       "241               EWEALEKKLAALESKCQALEKKLQALEKKHEALEHG          False   \n",
       "242  EEKYKKAMVSNAQLDNEKTNFMYQVDTLKDMLLELEEQLAESRRQY...           True   \n",
       "243                                    EELRRRIEELERRIR          False   \n",
       "244       VSGLVQQQNNILRALEATQHAVQALVWGVKQLQARVLALERYIK          False   \n",
       "245  PNAKVIRELREEVEKLREQLSQAEAMKAELKEKLEESEKLIKELTV...           True   \n",
       "\n",
       "     cc_seq_corr  parallel_x  y  y_pred  ...  \\\n",
       "0          False       False  2       1  ...   \n",
       "1          False        True  2       0  ...   \n",
       "2          False        True  2       2  ...   \n",
       "3           True        True  0       0  ...   \n",
       "4          False        True  0       0  ...   \n",
       "..           ...         ... ..     ...  ...   \n",
       "241        False        True  1       1  ...   \n",
       "242        False        True  0       0  ...   \n",
       "243        False        True  1       1  ...   \n",
       "244        False        True  1       1  ...   \n",
       "245        False        True  0       0  ...   \n",
       "\n",
       "                                          logicoil_seq  seq_length_difference  \\\n",
       "0       TFERVEQMSIQIKEVGDRVNYIKRSLQSLDSQIGHLQDLSALTVDT                      0   \n",
       "1                               YSDLQRVKQELLEEVKKELQKV                      0   \n",
       "2                                  LVVAASIIGILHLILWILD                      0   \n",
       "3           MDAIKKKMQMLKLDKENALDRAEQAEADNYHLENEVARLKKL                      1   \n",
       "4          CSWEEAQLSSQLYRNKQLQDTLVQKEEELARLHEENNHLRQYL                      0   \n",
       "..                                                 ...                    ...   \n",
       "241                   WEALEKKLAALESKCQALEKKLQALEKKHEAL                      0   \n",
       "242  YKKAMVSNAQLDNEKTNFMYQVDTLKDMLLELEEQLAESRRQYEEK...                      0   \n",
       "243                                       LRRRIEELERRI                      0   \n",
       "244           LVQQQNNILRALEATQHAVQALVWGVKQLQARVLALERYI                      0   \n",
       "245  IRELREEVEKLREQLSQAEAMKAELKEKLEESEKLIKELTVTWEEK...                      0   \n",
       "\n",
       "     y_pred_logicoil  y_pred_dc2  y_true    ID OligoState  parallel_y  \\\n",
       "0                  2           1       2  3e7k        4.0         0.0   \n",
       "1                  0           2       2  1use        4.0         0.0   \n",
       "2                  2           2       2  6us8        4.0         0.0   \n",
       "3                  0           0       0  5kht        2.0         1.0   \n",
       "4                  0           0       0  5c9n        2.0         1.0   \n",
       "..               ...         ...     ...   ...        ...         ...   \n",
       "241                1           1       1  5kb1        3.0         0.0   \n",
       "242                0           0       0  4h22        2.0         1.0   \n",
       "243                1           1       1  1kyc        3.0         0.0   \n",
       "244                1           1       1  2zfc        3.0         0.0   \n",
       "245                0           0       0  5djn        2.0         1.0   \n",
       "\n",
       "     prob_oligo_coconat  y_pred_coconat  \n",
       "0              0.536410               2  \n",
       "1              0.463654               2  \n",
       "2              0.347972               2  \n",
       "3              0.882084               0  \n",
       "4              0.951481               0  \n",
       "..                  ...             ...  \n",
       "241            0.487012               1  \n",
       "242            0.960981               0  \n",
       "243            0.447140               1  \n",
       "244            0.643462               1  \n",
       "245            0.818186               0  \n",
       "\n",
       "[246 rows x 39 columns]"
      ]
     },
     "execution_count": 45,
     "metadata": {},
     "output_type": "execute_result"
    }
   ],
   "source": [
    "df"
   ]
  },
  {
   "cell_type": "code",
   "execution_count": 46,
   "id": "014da167",
   "metadata": {},
   "outputs": [
    {
     "data": {
      "text/plain": [
       "<sklearn.metrics._plot.confusion_matrix.ConfusionMatrixDisplay at 0x7f4ab2a65f10>"
      ]
     },
     "execution_count": 46,
     "metadata": {},
     "output_type": "execute_result"
    },
    {
     "data": {
      "image/png": "[encoded data removed]",
      "text/plain": [
       "<Figure size 432x288 with 2 Axes>"
      ]
     },
     "metadata": {
      "needs_background": "light"
     },
     "output_type": "display_data"
    }
   ],
   "source": [
    "ConfusionMatrixDisplay.from_predictions(df[\"y\"], df[\"y_pred_logicoil\"], cmap='Blues')"
   ]
  },
  {
   "cell_type": "code",
   "execution_count": 47,
   "id": "f376753e",
   "metadata": {},
   "outputs": [
    {
     "data": {
      "text/plain": [
       "(0.8207924966749097, 0.7100510825580629)"
      ]
     },
     "execution_count": 47,
     "metadata": {},
     "output_type": "execute_result"
    }
   ],
   "source": [
    "f1_score(df[\"y\"], df[\"y_pred\"], average=\"macro\"), f1_score(df[\"y\"], df[\"y_pred_logicoil\"], average=\"macro\")"
   ]
  },
  {
   "cell_type": "code",
   "execution_count": 27,
   "id": "804a2336",
   "metadata": {},
   "outputs": [],
   "source": [
    "df = df[df[\"logicoil_seq\"].str.len() >= 40]"
   ]
  },
  {
   "cell_type": "code",
   "execution_count": 28,
   "id": "802b4a53",
   "metadata": {},
   "outputs": [
    {
     "data": {
      "text/plain": [
       "<sklearn.metrics._plot.confusion_matrix.ConfusionMatrixDisplay at 0x7f4ab2835d00>"
      ]
     },
     "execution_count": 28,
     "metadata": {},
     "output_type": "execute_result"
    },
    {
     "data": {
      "image/png": "[encoded data removed]",
      "text/plain": [
       "<Figure size 432x288 with 2 Axes>"
      ]
     },
     "metadata": {
      "needs_background": "light"
     },
     "output_type": "display_data"
    }
   ],
   "source": [
    "ConfusionMatrixDisplay.from_predictions(df[\"y\"], df[\"y_pred\"], cmap='Blues')"
   ]
  },
  {
   "cell_type": "code",
   "execution_count": 29,
   "id": "d3b64e9a",
   "metadata": {},
   "outputs": [
    {
     "data": {
      "text/plain": [
       "<sklearn.metrics._plot.confusion_matrix.ConfusionMatrixDisplay at 0x7f4ab28dc2b0>"
      ]
     },
     "execution_count": 29,
     "metadata": {},
     "output_type": "execute_result"
    },
    {
     "data": {
      "image/png": "[encoded data removed]",
      "text/plain": [
       "<Figure size 432x288 with 2 Axes>"
      ]
     },
     "metadata": {
      "needs_background": "light"
     },
     "output_type": "display_data"
    }
   ],
   "source": [
    "ConfusionMatrixDisplay.from_predictions(df[\"y\"], df[\"y_pred_logicoil\"], cmap='Blues')"
   ]
  },
  {
   "cell_type": "code",
   "execution_count": 30,
   "id": "cdff564e",
   "metadata": {},
   "outputs": [
    {
     "data": {
      "text/plain": [
       "<sklearn.metrics._plot.confusion_matrix.ConfusionMatrixDisplay at 0x7f4ab276fbe0>"
      ]
     },
     "execution_count": 30,
     "metadata": {},
     "output_type": "execute_result"
    },
    {
     "data": {
      "image/png": "[encoded data removed]",
      "text/plain": [
       "<Figure size 432x288 with 2 Axes>"
      ]
     },
     "metadata": {
      "needs_background": "light"
     },
     "output_type": "display_data"
    }
   ],
   "source": [
    "ConfusionMatrixDisplay.from_predictions(df[\"y\"], df[\"y_pred_coconat\"], cmap='Blues')"
   ]
  },
  {
   "cell_type": "code",
   "execution_count": 16,
   "id": "5604c426",
   "metadata": {},
   "outputs": [
    {
     "data": {
      "text/plain": [
       "(0.8281970649895177, 0.6450721908349027, 0.6413223140495868)"
      ]
     },
     "execution_count": 16,
     "metadata": {},
     "output_type": "execute_result"
    }
   ],
   "source": [
    "f1_score(df[\"y\"], df[\"y_pred\"], average=\"macro\"), f1_score(df[\"y\"], df[\"y_pred_logicoil\"], average=\"macro\"), f1_score(df[\"y\"], df[\"y_pred_coconat\"], average=\"macro\")"
   ]
  },
  {
   "cell_type": "code",
   "execution_count": null,
   "id": "9742a0f7",
   "metadata": {},
   "outputs": [],
   "source": []
  }
 ],
 "metadata": {
  "kernelspec": {
   "display_name": "Python [conda env:util] *",
   "language": "python",
   "name": "conda-env-util-py"
  },
  "language_info": {
   "codemirror_mode": {
    "name": "ipython",
    "version": 3
   },
   "file_extension": ".py",
   "mimetype": "text/x-python",
   "name": "python",
   "nbconvert_exporter": "python",
   "pygments_lexer": "ipython3",
   "version": "3.9.7"
  }
 },
 "nbformat": 4,
 "nbformat_minor": 5
}

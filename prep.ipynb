{
 "cells": [
  {
   "cell_type": "code",
   "execution_count": 1,
   "id": "442b97c9",
   "metadata": {},
   "outputs": [],
   "source": [
    "import pandas as pd\n",
    "import os"
   ]
  },
  {
   "cell_type": "code",
   "execution_count": 7,
   "id": "9a9fffed",
   "metadata": {},
   "outputs": [],
   "source": [
    "df = pd.read_csv('in/set4_homooligomers.csv', sep='\\t')"
   ]
  },
  {
   "cell_type": "code",
   "execution_count": 8,
   "id": "b23f9410",
   "metadata": {},
   "outputs": [],
   "source": [
    "df = df.drop_duplicates(subset='full_sequence', keep='first')"
   ]
  },
  {
   "cell_type": "code",
   "execution_count": 9,
   "id": "7569210c",
   "metadata": {},
   "outputs": [],
   "source": [
    "for key, value in df.iterrows():\n",
    "    os.makedirs(f'calc/{key}', exist_ok=True)\n",
    "    seq = value['full_sequence']\n",
    "    pdb = value['pdb']\n",
    "    \n",
    "    with open(f'calc/{key}/{key}_monomer.csv', 'w') as f:\n",
    "        f.write('id,sequence\\n')\n",
    "        f.write(f'{pdb},{seq}\\n')\n",
    "        \n",
    "    with open(f'_SH/{key}.sh', 'w') as f:\n",
    "        f.write('#!/bin/bash\\n')\n",
    "        f.write(f'cd ./../calc/{key}\\n')\n",
    "        f.write('source /opt/miniconda3/bin/activate cf_1.5\\n')\n",
    "        f.write(f'colabfold_batch {key}_monomer.csv . --num-models 5 --model-type alphafold2_multimer_v3 --num-recycle 5 --save-single-representations --save-pair-representations\\n')\n",
    "        \n",
    "    "
   ]
  },
  {
   "cell_type": "code",
   "execution_count": 10,
   "id": "91514f85",
   "metadata": {},
   "outputs": [
    {
     "data": {
      "text/plain": [
       "246"
      ]
     },
     "execution_count": 10,
     "metadata": {},
     "output_type": "execute_result"
    }
   ],
   "source": [
    "len(df)"
   ]
  },
  {
   "cell_type": "code",
   "execution_count": 11,
   "id": "f83602ee",
   "metadata": {},
   "outputs": [],
   "source": [
    "with open(f'_SH/batch.sh', 'w') as f:\n",
    "    f.write(\"\"\"#!/bin/bash\n",
    "#SBATCH -p gpu\n",
    "#SBATCH -n 4\n",
    "#SBATCH --gres=gpu:1\n",
    "#SBATCH --mem=16GB\n",
    "#SBATCH -J wio\n",
    "#SBATCH --array 0-247\n",
    "\n",
    "bash $SLURM_ARRAY_TASK_ID.sh\n",
    "\n",
    "\"\"\")"
   ]
  },
  {
   "cell_type": "code",
   "execution_count": null,
   "id": "504635d8",
   "metadata": {},
   "outputs": [],
   "source": []
  }
 ],
 "metadata": {
  "kernelspec": {
   "display_name": "Python 3 (ipykernel)",
   "language": "python",
   "name": "python3"
  },
  "language_info": {
   "codemirror_mode": {
    "name": "ipython",
    "version": 3
   },
   "file_extension": ".py",
   "mimetype": "text/x-python",
   "name": "python",
   "nbconvert_exporter": "python",
   "pygments_lexer": "ipython3",
   "version": "3.9.16"
  }
 },
 "nbformat": 4,
 "nbformat_minor": 5
}
